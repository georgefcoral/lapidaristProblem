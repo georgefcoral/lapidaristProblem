{
 "cells": [
  {
   "cell_type": "markdown",
   "metadata": {},
   "source": [
    "# The lapidarist problem\n",
    "\n",
    "*This problem is for you to:*\n",
    "\n",
    "*Show your abilities in data loading, cleaning and descriptive analysis. Some rows contain errors. Extra points: clean these rows and include them in your analysis.*\n",
    "*Show your modeling abilities. Bonus points for testing your model’s error using a test set.*\n",
    "\n",
    "\n",
    "The limousine comes to a full stop. As the driver gets out to open the door you take a deep breath and get inside. Inside the meeting room you find the Prime Minister, accompanied by a fat, tall man and a short, deform one with long ears and an even longer nose.\n",
    "\n",
    "Prime Minister: “Ah! You’re here! Great! Let me introduce my guests. This is Fidelious, Minister of Magic, and Krenk, the owner of the Gringotts Wizarding Bank.”\n",
    "\n",
    "You: “Uhhh, ma’am, is this a joke?”\n",
    "\n",
    "Fidelious: “Not at all, but don’t worry, don’t sweat the details, tomorrow you won’t remember anything. Security measures, you see.”\n",
    "\n",
    "Krenk: “Let’s move things along. I don’t like to be exposed to Muggles.”\n",
    "\n",
    "You: “What...” The Prime Minister interrupts you.\n",
    "\n",
    "Prime Minister: “Our friends here seem to have run into a bit of an issue, see, some diamonds seem to have been stolen from the bank. Problem is, the only person... goblin, sorry, ...who saw the diamonds prior to the robbery is our distinguished guest, Krenk.”\n",
    "\n",
    "Fidelious: “And while the Ministry completely believes Krenk as to the diamonds’ worth, we need another person to validate his claim. Safety policies, you see.”\n",
    "\n",
    "Prime Minister: “So, since you’re the best data scientist in our country, I thought you could help. Mr. Krenk will provide you with the characteristics of the missing diamonds so you can give us an estimate of how much the stolen diamonds are worth.”\n",
    "\n",
    "You: “But I’m not a lapidarist.”\n",
    "\n",
    "Prime Minister: “Which is why we’re providing you with a huge dataset, containing characteristics and prices for tens of thousands of diamonds. Now, get working.“\n",
    "\n",
    "“Huge? Tens of thousands?“ You think. “And I thought I was the clueless one here.”"
   ]
  },
  {
   "cell_type": "markdown",
   "metadata": {},
   "source": [
    "Entendimiendo del problema:\n",
    "El banco de magos de Gringotts ha sido robado, se llevaron diamantes y la persona quien los vio antes del robo fue el invitado Krenk lo cual es el propietario del banco. Se proporciona información que puede ser de interés, como lo es las caractarísticas miles de diamantes existentes en el banco. \n",
    "La misión otorgada por el primer ministro consta de estimar el valor de los diamantes robados.\n",
    "Datos Existentes: \n",
    "Una base de datos que contiene miles de diamantes con diferentes características.\n",
    "Una tabla de los diamantes que han sido robados.\n",
    "\n",
    "Objetivo principal: \n",
    "    - Estimación del valor de los diamantes robados.\n",
    "\n",
    "Proceso a llevar a cabo:\n",
    "\n",
    "1.- Carga de los datos.\n",
    "\n",
    "    - Se pretende hacer uso de la paquetería Pandas para la manipulación de las bases de datos.\n",
    "2.- Preparación de los datos (limpieza, transformación, etc) .\n",
    "\n",
    "3.- Exploración de los datos.\n",
    "\n",
    "    -A través de la paquetería matplot de pyplot se pretende realizar la visualización de los datos para un mejor análisis.\n",
    "    \n",
    "4.- Ingeniería de los datos.\n",
    "\n",
    "    -Se pretende generar variables a partir de las proporcionadas por la base de datos y seleccionar las más importantes para mejorar el rendimiento del modelo a entrenar.\n",
    "    \n",
    "5.- Construcción del modelo.\n",
    "\n",
    "    -Separación de las bases de datos en un conjunto para entrenamiento (80%) y prueba(20%).\n",
    "    -Entrenamiento del modelo.\n",
    "    -Evaluación del modelo.\n",
    "    \n",
    "6.- Despliegue del modelo.\n",
    "\n",
    "    -Evaluar el modelo con los datos de los diamantes robados.\n",
    "    -Medir rendimiento del modelo.\n",
    "    \n",
    "7.- Presentación de los resultados.\n",
    "\n"
   ]
  },
  {
   "cell_type": "markdown",
   "metadata": {},
   "source": [
    "Un artículo publicado en el sitio Worthy que habla acerca de como estimar el valor de un diamante, menciona sobre los factores primarios, en particular hace referencia a 4 características que hacen que un diamante sea mucho más valioso que otros, a estas 4 características las agrupa como *The Four C's* que incluye el quilaje(*carat*), el color (*color*), la claridad (*clarity*) y el corte (*cut*).\n",
    "\n",
    "Carat(quilate) = Es la unidad para elegir el peso de un diamante, su equivalencia en miligramos es 200 mg por cada quilate. Existe un sistema estandarizado para medir los quilates, donde el más pesado es de 100 puntos.\n",
    "    Tipo de dato: Numérico - flotante.\n",
    "    \n",
    "Color = Un diamante es mucho más valioso que otro cuando carece de color, por lo tanto, un diamante completamente incoloro es mucho más valioso que aquel que es ligeramente amarillo.\n",
    "   Tipo de dato: Categórico.\n",
    "\n",
    "Clarity = Un diamante es más valioso que otro si este cuenta con mayor claridad, que tenga mayor claridad hace referencia a que tenga menos imperfecciones tanto externas como internas. mientras menos defectos tenga un diamante este se vuelve mucho más valioso.\n",
    "\n",
    "Cut = El brillo de un diamante incrementa o disminuye de acuerdo al corte del diamante. El corte se basa en tres efectos ópticos el brillo, la dispersión de la luz y el centelleo.\n",
    "\n",
    "Estas 4 características juegan un papel importante al momento de darle valor a un diamante, mientras más rara sea la característica mucho más costoso es el diamante.\n",
    "\n",
    "\n"
   ]
  },
  {
   "cell_type": "code",
   "execution_count": 1,
   "metadata": {},
   "outputs": [],
   "source": [
    "#Import packages to use\n",
    "import pandas as pd\n",
    "import numpy as np\n",
    "import matplotlib.pyplot as plt\n",
    "import seaborn as sns"
   ]
  },
  {
   "cell_type": "code",
   "execution_count": 2,
   "metadata": {},
   "outputs": [],
   "source": [
    "#Read datasets\n",
    "diamonds = pd.read_csv(\"dataset/diamonds.csv\")\n",
    "diamonds_stolen = pd.read_csv(\"dataset/diamonds_stolen.csv\")\n",
    "rowsD = diamonds.size\n",
    "rowsStolen = diamonds_stolen.size"
   ]
  },
  {
   "cell_type": "code",
   "execution_count": 3,
   "metadata": {},
   "outputs": [
    {
     "data": {
      "text/html": [
       "<div>\n",
       "<style scoped>\n",
       "    .dataframe tbody tr th:only-of-type {\n",
       "        vertical-align: middle;\n",
       "    }\n",
       "\n",
       "    .dataframe tbody tr th {\n",
       "        vertical-align: top;\n",
       "    }\n",
       "\n",
       "    .dataframe thead th {\n",
       "        text-align: right;\n",
       "    }\n",
       "</style>\n",
       "<table border=\"1\" class=\"dataframe\">\n",
       "  <thead>\n",
       "    <tr style=\"text-align: right;\">\n",
       "      <th></th>\n",
       "      <th>Unnamed: 0</th>\n",
       "      <th>carat</th>\n",
       "      <th>cut</th>\n",
       "      <th>color</th>\n",
       "      <th>clarity</th>\n",
       "      <th>depth</th>\n",
       "      <th>table</th>\n",
       "      <th>price</th>\n",
       "      <th>x</th>\n",
       "      <th>y</th>\n",
       "      <th>z</th>\n",
       "    </tr>\n",
       "  </thead>\n",
       "  <tbody>\n",
       "    <tr>\n",
       "      <th>0</th>\n",
       "      <td>0</td>\n",
       "      <td>0.23</td>\n",
       "      <td>Ideal</td>\n",
       "      <td>E</td>\n",
       "      <td>SI2</td>\n",
       "      <td>61.5</td>\n",
       "      <td>55.0</td>\n",
       "      <td>326</td>\n",
       "      <td>3.95</td>\n",
       "      <td>3.98</td>\n",
       "      <td>2.43</td>\n",
       "    </tr>\n",
       "    <tr>\n",
       "      <th>1</th>\n",
       "      <td>1</td>\n",
       "      <td>0.21</td>\n",
       "      <td>Premium</td>\n",
       "      <td>E</td>\n",
       "      <td>SI1</td>\n",
       "      <td>59.8</td>\n",
       "      <td>61.0</td>\n",
       "      <td>326</td>\n",
       "      <td>3.89</td>\n",
       "      <td>3.84</td>\n",
       "      <td>2.31</td>\n",
       "    </tr>\n",
       "    <tr>\n",
       "      <th>2</th>\n",
       "      <td>2</td>\n",
       "      <td>0.23</td>\n",
       "      <td>Good</td>\n",
       "      <td>E</td>\n",
       "      <td>VS1</td>\n",
       "      <td>56.9</td>\n",
       "      <td>65.0</td>\n",
       "      <td>327</td>\n",
       "      <td>4.05</td>\n",
       "      <td>4.07</td>\n",
       "      <td>2.31</td>\n",
       "    </tr>\n",
       "    <tr>\n",
       "      <th>3</th>\n",
       "      <td>3</td>\n",
       "      <td>0.29</td>\n",
       "      <td>Premium</td>\n",
       "      <td>I</td>\n",
       "      <td>VS2</td>\n",
       "      <td>62.4</td>\n",
       "      <td>58.0</td>\n",
       "      <td>334</td>\n",
       "      <td>4.20</td>\n",
       "      <td>4.23</td>\n",
       "      <td>2.63</td>\n",
       "    </tr>\n",
       "    <tr>\n",
       "      <th>4</th>\n",
       "      <td>4</td>\n",
       "      <td>0.31</td>\n",
       "      <td>Good</td>\n",
       "      <td>J</td>\n",
       "      <td>SI2</td>\n",
       "      <td>63.3</td>\n",
       "      <td>58.0</td>\n",
       "      <td>335</td>\n",
       "      <td>4.34</td>\n",
       "      <td>4.35</td>\n",
       "      <td>2.75</td>\n",
       "    </tr>\n",
       "  </tbody>\n",
       "</table>\n",
       "</div>"
      ],
      "text/plain": [
       "   Unnamed: 0  carat      cut color clarity  depth  table  price     x     y  \\\n",
       "0           0   0.23    Ideal     E     SI2   61.5   55.0    326  3.95  3.98   \n",
       "1           1   0.21  Premium     E     SI1   59.8   61.0    326  3.89  3.84   \n",
       "2           2   0.23     Good     E     VS1   56.9   65.0    327  4.05  4.07   \n",
       "3           3   0.29  Premium     I     VS2   62.4   58.0    334  4.20  4.23   \n",
       "4           4   0.31     Good     J     SI2   63.3   58.0    335  4.34  4.35   \n",
       "\n",
       "      z  \n",
       "0  2.43  \n",
       "1  2.31  \n",
       "2  2.31  \n",
       "3  2.63  \n",
       "4  2.75  "
      ]
     },
     "execution_count": 3,
     "metadata": {},
     "output_type": "execute_result"
    }
   ],
   "source": [
    "diamonds.head()"
   ]
  },
  {
   "cell_type": "code",
   "execution_count": 4,
   "metadata": {},
   "outputs": [
    {
     "data": {
      "text/plain": [
       "Ideal          21537\n",
       "Premium        13782\n",
       "Very Good      12076\n",
       "Good            4900\n",
       "Fair            1610\n",
       "P?remium           2\n",
       "Ide&al             2\n",
       "Go?od              2\n",
       "*'Ideal            2\n",
       "!Good              1\n",
       "Ide*'al            1\n",
       "Very G#ood         1\n",
       "G#ood              1\n",
       "Very *'Good        1\n",
       "&Ideal             1\n",
       "Pre!mium           1\n",
       "Pr?emium           1\n",
       "Very Go#od         1\n",
       "Very Goo!d         1\n",
       "Id!eal             1\n",
       "#Very Good         1\n",
       "&Premium           1\n",
       "V&ery Good         1\n",
       "I#deal             1\n",
       "P*'remium          1\n",
       "Ide!al             1\n",
       "Name: cut, dtype: int64"
      ]
     },
     "execution_count": 4,
     "metadata": {},
     "output_type": "execute_result"
    }
   ],
   "source": [
    "pd.value_counts(diamonds['cut'])#Count data for specific \"cut\" variable"
   ]
  },
  {
   "cell_type": "code",
   "execution_count": 5,
   "metadata": {},
   "outputs": [
    {
     "data": {
      "text/plain": [
       "G      11284\n",
       "E       9789\n",
       "F       9536\n",
       "H       8301\n",
       "D       6773\n",
       "I       5417\n",
       "J       2805\n",
       "*'E        3\n",
       "#F         2\n",
       "!E         2\n",
       "&G         2\n",
       "?J         2\n",
       "&E         1\n",
       "*'I        1\n",
       "*'F        1\n",
       "?E         1\n",
       "?H         1\n",
       "!F         1\n",
       "&I         1\n",
       "#D         1\n",
       "#H         1\n",
       "?G         1\n",
       "&F         1\n",
       "!H         1\n",
       "!I         1\n",
       "#G         1\n",
       "Name: color, dtype: int64"
      ]
     },
     "execution_count": 5,
     "metadata": {},
     "output_type": "execute_result"
    }
   ],
   "source": [
    "pd.value_counts(diamonds['color'])#Count data for specific \"color\" variable"
   ]
  },
  {
   "cell_type": "code",
   "execution_count": 6,
   "metadata": {},
   "outputs": [
    {
     "data": {
      "text/plain": [
       "SI1       13058\n",
       "VS2       12249\n",
       "SI2        9189\n",
       "VS1        8164\n",
       "VVS2       5062\n",
       "VVS1       3653\n",
       "IF         1790\n",
       "I1          741\n",
       "VS?1          2\n",
       "&VS2          2\n",
       "S&I1          1\n",
       "V&S2          1\n",
       "S!I2          1\n",
       "VV#S1         1\n",
       "#SI!1         1\n",
       "V!S2          1\n",
       "VS#2          1\n",
       "SI!1          1\n",
       "V#S2          1\n",
       "*'SI1         1\n",
       "SI?1          1\n",
       "!VS2          1\n",
       "S*'I1         1\n",
       "S?I1          1\n",
       "S*'I2         1\n",
       "&SI2          1\n",
       "*'SI2         1\n",
       "VVS*'2        1\n",
       "#VS1          1\n",
       "VV?S1         1\n",
       "Name: clarity, dtype: int64"
      ]
     },
     "execution_count": 6,
     "metadata": {},
     "output_type": "execute_result"
    }
   ],
   "source": [
    "pd.value_counts(diamonds['clarity'])#Count data for specific \"clarity\" variable"
   ]
  },
  {
   "cell_type": "markdown",
   "metadata": {},
   "source": [
    "De la salidas anteriores, se puede notar que existen valores atípicos *outliers* que puedes afectar el desempeño del modelo, por lo tanto se procede a eliminarlos, ya que generan ambiguedad y no son grandes cantidades de datos."
   ]
  },
  {
   "cell_type": "code",
   "execution_count": 7,
   "metadata": {},
   "outputs": [],
   "source": [
    "reg = \"[^A-Za-z0-9]\"#El complemento de todo lo alfanumerico.\n",
    "diamonds = diamonds[~diamonds['clarity'].str.contains(reg)]#Eliminamos datos que contienen valores no alfanumericos\n",
    "diamonds = diamonds[~diamonds['cut'].str.contains(reg)] \n",
    "diamonds = diamonds[~diamonds['color'].str.contains(reg)]"
   ]
  },
  {
   "cell_type": "code",
   "execution_count": 8,
   "metadata": {},
   "outputs": [
    {
     "name": "stdout",
     "output_type": "stream",
     "text": [
      "<class 'pandas.core.frame.DataFrame'>\n",
      "Int64Index: 41796 entries, 0 to 53929\n",
      "Data columns (total 11 columns):\n",
      " #   Column      Non-Null Count  Dtype  \n",
      "---  ------      --------------  -----  \n",
      " 0   Unnamed: 0  41796 non-null  int64  \n",
      " 1   carat       41796 non-null  float64\n",
      " 2   cut         41796 non-null  object \n",
      " 3   color       41796 non-null  object \n",
      " 4   clarity     41796 non-null  object \n",
      " 5   depth       39480 non-null  float64\n",
      " 6   table       41796 non-null  float64\n",
      " 7   price       41796 non-null  int64  \n",
      " 8   x           40946 non-null  float64\n",
      " 9   y           41327 non-null  float64\n",
      " 10  z           41796 non-null  float64\n",
      "dtypes: float64(6), int64(2), object(3)\n",
      "memory usage: 3.8+ MB\n"
     ]
    }
   ],
   "source": [
    "diamonds.info()"
   ]
  },
  {
   "cell_type": "code",
   "execution_count": 9,
   "metadata": {},
   "outputs": [],
   "source": [
    "#Count null values on diamonds dataset.\n",
    "diamonds = diamonds.dropna()\n",
    "#diamonds.head()"
   ]
  },
  {
   "cell_type": "code",
   "execution_count": 10,
   "metadata": {},
   "outputs": [
    {
     "name": "stdout",
     "output_type": "stream",
     "text": [
      "<class 'pandas.core.frame.DataFrame'>\n",
      "Int64Index: 39480 entries, 0 to 53928\n",
      "Data columns (total 11 columns):\n",
      " #   Column      Non-Null Count  Dtype  \n",
      "---  ------      --------------  -----  \n",
      " 0   Unnamed: 0  39480 non-null  int64  \n",
      " 1   carat       39480 non-null  float64\n",
      " 2   cut         39480 non-null  object \n",
      " 3   color       39480 non-null  object \n",
      " 4   clarity     39480 non-null  object \n",
      " 5   depth       39480 non-null  float64\n",
      " 6   table       39480 non-null  float64\n",
      " 7   price       39480 non-null  int64  \n",
      " 8   x           39480 non-null  float64\n",
      " 9   y           39480 non-null  float64\n",
      " 10  z           39480 non-null  float64\n",
      "dtypes: float64(6), int64(2), object(3)\n",
      "memory usage: 3.6+ MB\n"
     ]
    }
   ],
   "source": [
    "diamonds.info()"
   ]
  },
  {
   "cell_type": "markdown",
   "metadata": {},
   "source": [
    "## Exploración de los datos y *featuring engineer*"
   ]
  },
  {
   "cell_type": "code",
   "execution_count": 11,
   "metadata": {},
   "outputs": [],
   "source": [
    "#Creamos una variable volumen que depende de las dimensiones del diamante.\n",
    "diamonds['volumen'] = diamonds['x']*diamonds['y']*diamonds['z']\n",
    "diamonds_stolen['volumen'] = diamonds_stolen['x']*diamonds_stolen['y']*diamonds_stolen['z']"
   ]
  },
  {
   "cell_type": "code",
   "execution_count": 12,
   "metadata": {},
   "outputs": [],
   "source": [
    "diamonds = diamonds.drop(['x', 'y', 'z'], axis=1)\n",
    "diamonds_stolen = diamonds_stolen.drop(['x', 'y', 'z'], axis=1)"
   ]
  },
  {
   "cell_type": "code",
   "execution_count": 13,
   "metadata": {},
   "outputs": [
    {
     "data": {
      "text/plain": [
       "Unnamed: 0      53928\n",
       "carat            5.01\n",
       "cut           Premium\n",
       "color               J\n",
       "clarity          VVS2\n",
       "depth              79\n",
       "table              95\n",
       "price           18823\n",
       "volumen        3840.6\n",
       "dtype: object"
      ]
     },
     "execution_count": 13,
     "metadata": {},
     "output_type": "execute_result"
    }
   ],
   "source": [
    "diamonds.max()"
   ]
  },
  {
   "cell_type": "code",
   "execution_count": 14,
   "metadata": {},
   "outputs": [
    {
     "data": {
      "text/plain": [
       "Unnamed: 0         0\n",
       "carat            0.2\n",
       "cut             Fair\n",
       "color              D\n",
       "clarity           I1\n",
       "depth             43\n",
       "table             43\n",
       "price            326\n",
       "volumen      -175.78\n",
       "dtype: object"
      ]
     },
     "execution_count": 14,
     "metadata": {},
     "output_type": "execute_result"
    }
   ],
   "source": [
    "diamonds.min()"
   ]
  },
  {
   "cell_type": "code",
   "execution_count": 15,
   "metadata": {},
   "outputs": [],
   "source": [
    "#Definimos diccionario que mapea cada categoría a un número entero.\n",
    "#La variable cut contiene Fair el peor valor e Ideal como el mejor.\n",
    "#La variable color J el peor y G el mejor.\n",
    "#La variable Clarity IF el peor y SI1 el mejor.\n",
    "\n",
    "cleanup_nums = {\"cut\":     {\"Fair\": 0, \"Good\": 1, \"Very Good\":2, \"Premium\":3,\"Ideal\":4},\n",
    "                \"color\": {\"J\": 0, \"I\": 1, \"D\":2 , \"H\":3 ,\"F\":4 , \"E\":5 , \"G\":6},\n",
    "               \"clarity\": {\"IF\": 0, \"VVS1\": 1, \"VVS2\": 2, \"VS1\": 3,\"SI2\": 4, \"VS2\": 5, \"SI1\":6,\"I1\":7}}"
   ]
  },
  {
   "cell_type": "code",
   "execution_count": 16,
   "metadata": {},
   "outputs": [
    {
     "data": {
      "text/html": [
       "<div>\n",
       "<style scoped>\n",
       "    .dataframe tbody tr th:only-of-type {\n",
       "        vertical-align: middle;\n",
       "    }\n",
       "\n",
       "    .dataframe tbody tr th {\n",
       "        vertical-align: top;\n",
       "    }\n",
       "\n",
       "    .dataframe thead th {\n",
       "        text-align: right;\n",
       "    }\n",
       "</style>\n",
       "<table border=\"1\" class=\"dataframe\">\n",
       "  <thead>\n",
       "    <tr style=\"text-align: right;\">\n",
       "      <th></th>\n",
       "      <th>Unnamed: 0</th>\n",
       "      <th>carat</th>\n",
       "      <th>cut</th>\n",
       "      <th>color</th>\n",
       "      <th>clarity</th>\n",
       "      <th>depth</th>\n",
       "      <th>table</th>\n",
       "      <th>price</th>\n",
       "      <th>volumen</th>\n",
       "    </tr>\n",
       "  </thead>\n",
       "  <tbody>\n",
       "    <tr>\n",
       "      <th>0</th>\n",
       "      <td>0</td>\n",
       "      <td>0.23</td>\n",
       "      <td>4</td>\n",
       "      <td>5</td>\n",
       "      <td>4</td>\n",
       "      <td>61.5</td>\n",
       "      <td>55.0</td>\n",
       "      <td>326</td>\n",
       "      <td>38.202030</td>\n",
       "    </tr>\n",
       "    <tr>\n",
       "      <th>1</th>\n",
       "      <td>1</td>\n",
       "      <td>0.21</td>\n",
       "      <td>3</td>\n",
       "      <td>5</td>\n",
       "      <td>6</td>\n",
       "      <td>59.8</td>\n",
       "      <td>61.0</td>\n",
       "      <td>326</td>\n",
       "      <td>34.505856</td>\n",
       "    </tr>\n",
       "    <tr>\n",
       "      <th>2</th>\n",
       "      <td>2</td>\n",
       "      <td>0.23</td>\n",
       "      <td>1</td>\n",
       "      <td>5</td>\n",
       "      <td>3</td>\n",
       "      <td>56.9</td>\n",
       "      <td>65.0</td>\n",
       "      <td>327</td>\n",
       "      <td>38.076885</td>\n",
       "    </tr>\n",
       "    <tr>\n",
       "      <th>3</th>\n",
       "      <td>3</td>\n",
       "      <td>0.29</td>\n",
       "      <td>3</td>\n",
       "      <td>1</td>\n",
       "      <td>5</td>\n",
       "      <td>62.4</td>\n",
       "      <td>58.0</td>\n",
       "      <td>334</td>\n",
       "      <td>46.724580</td>\n",
       "    </tr>\n",
       "    <tr>\n",
       "      <th>4</th>\n",
       "      <td>4</td>\n",
       "      <td>0.31</td>\n",
       "      <td>1</td>\n",
       "      <td>0</td>\n",
       "      <td>4</td>\n",
       "      <td>63.3</td>\n",
       "      <td>58.0</td>\n",
       "      <td>335</td>\n",
       "      <td>51.917250</td>\n",
       "    </tr>\n",
       "  </tbody>\n",
       "</table>\n",
       "</div>"
      ],
      "text/plain": [
       "   Unnamed: 0  carat  cut  color  clarity  depth  table  price    volumen\n",
       "0           0   0.23    4      5        4   61.5   55.0    326  38.202030\n",
       "1           1   0.21    3      5        6   59.8   61.0    326  34.505856\n",
       "2           2   0.23    1      5        3   56.9   65.0    327  38.076885\n",
       "3           3   0.29    3      1        5   62.4   58.0    334  46.724580\n",
       "4           4   0.31    1      0        4   63.3   58.0    335  51.917250"
      ]
     },
     "execution_count": 16,
     "metadata": {},
     "output_type": "execute_result"
    }
   ],
   "source": [
    "#Remplazamos los valores categóricos por valores enteros...\n",
    "diamonds = diamonds.replace(cleanup_nums)\n",
    "diamonds_stolen = diamonds_stolen.replace(cleanup_nums)\n",
    "diamonds.head()"
   ]
  },
  {
   "cell_type": "code",
   "execution_count": 17,
   "metadata": {},
   "outputs": [
    {
     "data": {
      "text/plain": [
       "Unnamed: 0      int64\n",
       "carat         float64\n",
       "cut             int64\n",
       "color           int64\n",
       "clarity         int64\n",
       "depth         float64\n",
       "table         float64\n",
       "price           int64\n",
       "volumen       float64\n",
       "dtype: object"
      ]
     },
     "execution_count": 17,
     "metadata": {},
     "output_type": "execute_result"
    }
   ],
   "source": [
    "diamonds.dtypes"
   ]
  },
  {
   "cell_type": "code",
   "execution_count": 18,
   "metadata": {},
   "outputs": [
    {
     "data": {
      "text/plain": [
       "Unnamed: 0      0.00000\n",
       "carat           0.20000\n",
       "cut             0.00000\n",
       "color           0.00000\n",
       "clarity         0.00000\n",
       "depth          43.00000\n",
       "table          43.00000\n",
       "price         326.00000\n",
       "volumen      -175.77973\n",
       "dtype: float64"
      ]
     },
     "execution_count": 18,
     "metadata": {},
     "output_type": "execute_result"
    }
   ],
   "source": [
    "diamonds.min()"
   ]
  },
  {
   "cell_type": "code",
   "execution_count": 19,
   "metadata": {},
   "outputs": [
    {
     "data": {
      "text/plain": [
       "Unnamed: 0    53928.00000\n",
       "carat             5.01000\n",
       "cut               4.00000\n",
       "color             6.00000\n",
       "clarity           7.00000\n",
       "depth            79.00000\n",
       "table            95.00000\n",
       "price         18823.00000\n",
       "volumen        3840.59806\n",
       "dtype: float64"
      ]
     },
     "execution_count": 19,
     "metadata": {},
     "output_type": "execute_result"
    }
   ],
   "source": [
    "diamonds.max()"
   ]
  },
  {
   "cell_type": "code",
   "execution_count": 20,
   "metadata": {},
   "outputs": [],
   "source": [
    "#Eliminamos datos que tienen un volumen inválido.\n",
    "diamonds_filtered = diamonds[diamonds['volumen'] > 0]\n",
    "diamonds_stolen = diamonds_stolen[diamonds_stolen['volumen'] > 0]"
   ]
  },
  {
   "cell_type": "code",
   "execution_count": 21,
   "metadata": {},
   "outputs": [
    {
     "data": {
      "text/html": [
       "<div>\n",
       "<style scoped>\n",
       "    .dataframe tbody tr th:only-of-type {\n",
       "        vertical-align: middle;\n",
       "    }\n",
       "\n",
       "    .dataframe tbody tr th {\n",
       "        vertical-align: top;\n",
       "    }\n",
       "\n",
       "    .dataframe thead th {\n",
       "        text-align: right;\n",
       "    }\n",
       "</style>\n",
       "<table border=\"1\" class=\"dataframe\">\n",
       "  <thead>\n",
       "    <tr style=\"text-align: right;\">\n",
       "      <th></th>\n",
       "      <th>Unnamed: 0</th>\n",
       "      <th>carat</th>\n",
       "      <th>cut</th>\n",
       "      <th>color</th>\n",
       "      <th>clarity</th>\n",
       "      <th>depth</th>\n",
       "      <th>table</th>\n",
       "      <th>price</th>\n",
       "      <th>volumen</th>\n",
       "    </tr>\n",
       "  </thead>\n",
       "  <tbody>\n",
       "    <tr>\n",
       "      <th>Unnamed: 0</th>\n",
       "      <td>1.000000</td>\n",
       "      <td>-0.385280</td>\n",
       "      <td>0.107803</td>\n",
       "      <td>0.077405</td>\n",
       "      <td>-0.149510</td>\n",
       "      <td>-0.036834</td>\n",
       "      <td>-0.106608</td>\n",
       "      <td>-0.311980</td>\n",
       "      <td>-0.372464</td>\n",
       "    </tr>\n",
       "    <tr>\n",
       "      <th>carat</th>\n",
       "      <td>-0.385280</td>\n",
       "      <td>1.000000</td>\n",
       "      <td>-0.164018</td>\n",
       "      <td>-0.184833</td>\n",
       "      <td>0.228374</td>\n",
       "      <td>0.029967</td>\n",
       "      <td>0.196151</td>\n",
       "      <td>0.920313</td>\n",
       "      <td>0.970435</td>\n",
       "    </tr>\n",
       "    <tr>\n",
       "      <th>cut</th>\n",
       "      <td>0.107803</td>\n",
       "      <td>-0.164018</td>\n",
       "      <td>1.000000</td>\n",
       "      <td>0.042340</td>\n",
       "      <td>-0.177194</td>\n",
       "      <td>-0.256624</td>\n",
       "      <td>-0.477983</td>\n",
       "      <td>-0.064514</td>\n",
       "      <td>-0.143008</td>\n",
       "    </tr>\n",
       "    <tr>\n",
       "      <th>color</th>\n",
       "      <td>0.077405</td>\n",
       "      <td>-0.184833</td>\n",
       "      <td>0.042340</td>\n",
       "      <td>1.000000</td>\n",
       "      <td>-0.118934</td>\n",
       "      <td>-0.027370</td>\n",
       "      <td>-0.038522</td>\n",
       "      <td>-0.085969</td>\n",
       "      <td>-0.179983</td>\n",
       "    </tr>\n",
       "    <tr>\n",
       "      <th>clarity</th>\n",
       "      <td>-0.149510</td>\n",
       "      <td>0.228374</td>\n",
       "      <td>-0.177194</td>\n",
       "      <td>-0.118934</td>\n",
       "      <td>1.000000</td>\n",
       "      <td>0.065674</td>\n",
       "      <td>0.136004</td>\n",
       "      <td>0.089425</td>\n",
       "      <td>0.217969</td>\n",
       "    </tr>\n",
       "    <tr>\n",
       "      <th>depth</th>\n",
       "      <td>-0.036834</td>\n",
       "      <td>0.029967</td>\n",
       "      <td>-0.256624</td>\n",
       "      <td>-0.027370</td>\n",
       "      <td>0.065674</td>\n",
       "      <td>1.000000</td>\n",
       "      <td>-0.281358</td>\n",
       "      <td>-0.011169</td>\n",
       "      <td>0.009842</td>\n",
       "    </tr>\n",
       "    <tr>\n",
       "      <th>table</th>\n",
       "      <td>-0.106608</td>\n",
       "      <td>0.196151</td>\n",
       "      <td>-0.477983</td>\n",
       "      <td>-0.038522</td>\n",
       "      <td>0.136004</td>\n",
       "      <td>-0.281358</td>\n",
       "      <td>1.000000</td>\n",
       "      <td>0.134836</td>\n",
       "      <td>0.179937</td>\n",
       "    </tr>\n",
       "    <tr>\n",
       "      <th>price</th>\n",
       "      <td>-0.311980</td>\n",
       "      <td>0.920313</td>\n",
       "      <td>-0.064514</td>\n",
       "      <td>-0.085969</td>\n",
       "      <td>0.089425</td>\n",
       "      <td>-0.011169</td>\n",
       "      <td>0.134836</td>\n",
       "      <td>1.000000</td>\n",
       "      <td>0.895833</td>\n",
       "    </tr>\n",
       "    <tr>\n",
       "      <th>volumen</th>\n",
       "      <td>-0.372464</td>\n",
       "      <td>0.970435</td>\n",
       "      <td>-0.143008</td>\n",
       "      <td>-0.179983</td>\n",
       "      <td>0.217969</td>\n",
       "      <td>0.009842</td>\n",
       "      <td>0.179937</td>\n",
       "      <td>0.895833</td>\n",
       "      <td>1.000000</td>\n",
       "    </tr>\n",
       "  </tbody>\n",
       "</table>\n",
       "</div>"
      ],
      "text/plain": [
       "            Unnamed: 0     carat       cut     color   clarity     depth  \\\n",
       "Unnamed: 0    1.000000 -0.385280  0.107803  0.077405 -0.149510 -0.036834   \n",
       "carat        -0.385280  1.000000 -0.164018 -0.184833  0.228374  0.029967   \n",
       "cut           0.107803 -0.164018  1.000000  0.042340 -0.177194 -0.256624   \n",
       "color         0.077405 -0.184833  0.042340  1.000000 -0.118934 -0.027370   \n",
       "clarity      -0.149510  0.228374 -0.177194 -0.118934  1.000000  0.065674   \n",
       "depth        -0.036834  0.029967 -0.256624 -0.027370  0.065674  1.000000   \n",
       "table        -0.106608  0.196151 -0.477983 -0.038522  0.136004 -0.281358   \n",
       "price        -0.311980  0.920313 -0.064514 -0.085969  0.089425 -0.011169   \n",
       "volumen      -0.372464  0.970435 -0.143008 -0.179983  0.217969  0.009842   \n",
       "\n",
       "               table     price   volumen  \n",
       "Unnamed: 0 -0.106608 -0.311980 -0.372464  \n",
       "carat       0.196151  0.920313  0.970435  \n",
       "cut        -0.477983 -0.064514 -0.143008  \n",
       "color      -0.038522 -0.085969 -0.179983  \n",
       "clarity     0.136004  0.089425  0.217969  \n",
       "depth      -0.281358 -0.011169  0.009842  \n",
       "table       1.000000  0.134836  0.179937  \n",
       "price       0.134836  1.000000  0.895833  \n",
       "volumen     0.179937  0.895833  1.000000  "
      ]
     },
     "execution_count": 21,
     "metadata": {},
     "output_type": "execute_result"
    }
   ],
   "source": [
    "#Se procede a calcular la matriz de correlaciones para encontrar relaciones entre variables \n",
    "#que no invulucra causa-consecuencia.\n",
    "corrMat = diamonds.corr()\n",
    "corrMat"
   ]
  },
  {
   "cell_type": "code",
   "execution_count": 22,
   "metadata": {},
   "outputs": [
    {
     "data": {
      "image/png": "[encoded data removed]",
      "text/plain": [
       "<Figure size 432x288 with 2 Axes>"
      ]
     },
     "metadata": {
      "needs_background": "light"
     },
     "output_type": "display_data"
    }
   ],
   "source": [
    "%matplotlib inline\n",
    "sns.heatmap(corrMat)\n",
    "plt.show()"
   ]
  },
  {
   "cell_type": "code",
   "execution_count": 23,
   "metadata": {},
   "outputs": [
    {
     "data": {
      "image/png": "[encoded data removed]",
      "text/plain": [
       "<Figure size 432x288 with 1 Axes>"
      ]
     },
     "metadata": {
      "needs_background": "light"
     },
     "output_type": "display_data"
    }
   ],
   "source": [
    "#Fijándose únicamente en la variable precio con respecto a las otras, se puede percibir que las variables\n",
    "#carar y volumen se encuentran estrechamente a ella, por lo tanto se procede visualizar el comportamiento \n",
    "#de cada una con.\n",
    "diamonds_filtered.plot.scatter(x = 'price', y = 'volumen', s = 10,c = 'black');"
   ]
  },
  {
   "cell_type": "code",
   "execution_count": 24,
   "metadata": {},
   "outputs": [
    {
     "data": {
      "image/png": "[encoded data removed]",
      "text/plain": [
       "<Figure size 432x288 with 1 Axes>"
      ]
     },
     "metadata": {
      "needs_background": "light"
     },
     "output_type": "display_data"
    }
   ],
   "source": [
    "diamonds_filtered.plot.scatter(x = 'price', y = 'carat', s = 10,c = 'black');"
   ]
  },
  {
   "cell_type": "code",
   "execution_count": 25,
   "metadata": {},
   "outputs": [
    {
     "data": {
      "text/plain": [
       "Unnamed: 0    24063.00000\n",
       "carat             2.00000\n",
       "cut               3.00000\n",
       "color             3.00000\n",
       "clarity           4.00000\n",
       "depth            58.90000\n",
       "table            57.00000\n",
       "price         12210.00000\n",
       "volumen        3840.59806\n",
       "Name: 24063, dtype: float64"
      ]
     },
     "execution_count": 25,
     "metadata": {},
     "output_type": "execute_result"
    }
   ],
   "source": [
    "diamonds_filtered.loc[diamonds['volumen'].idxmax()]"
   ]
  },
  {
   "cell_type": "code",
   "execution_count": 26,
   "metadata": {},
   "outputs": [],
   "source": [
    "#Se elimina el valor atípico para tener un mejor ajuste.\n",
    "diamonds_filtered = diamonds_filtered.drop(24063)\n"
   ]
  },
  {
   "cell_type": "code",
   "execution_count": 27,
   "metadata": {},
   "outputs": [
    {
     "data": {
      "image/png": "[encoded data removed]",
      "text/plain": [
       "<Figure size 432x288 with 1 Axes>"
      ]
     },
     "metadata": {
      "needs_background": "light"
     },
     "output_type": "display_data"
    }
   ],
   "source": [
    "diamonds_filtered.plot.scatter(x = 'price', y = 'volumen', s = 10,c = 'black');"
   ]
  },
  {
   "cell_type": "code",
   "execution_count": 28,
   "metadata": {},
   "outputs": [
    {
     "data": {
      "text/plain": [
       "Unnamed: 0    24928.000000\n",
       "carat             2.010000\n",
       "cut               0.000000\n",
       "color             4.000000\n",
       "clarity           6.000000\n",
       "depth            58.600000\n",
       "table            95.000000\n",
       "price         13387.000000\n",
       "volumen         336.707904\n",
       "Name: 24928, dtype: float64"
      ]
     },
     "execution_count": 28,
     "metadata": {},
     "output_type": "execute_result"
    }
   ],
   "source": [
    "diamonds_filtered.loc[diamonds['table'].idxmax()]"
   ]
  },
  {
   "cell_type": "code",
   "execution_count": 29,
   "metadata": {},
   "outputs": [
    {
     "data": {
      "text/plain": [
       "Unnamed: 0    52850.000000\n",
       "carat             0.500000\n",
       "cut               0.000000\n",
       "color             5.000000\n",
       "clarity           5.000000\n",
       "depth            79.000000\n",
       "table            73.000000\n",
       "price          2579.000000\n",
       "volumen         110.380102\n",
       "Name: 52850, dtype: float64"
      ]
     },
     "execution_count": 29,
     "metadata": {},
     "output_type": "execute_result"
    }
   ],
   "source": [
    "diamonds_filtered.loc[diamonds['depth'].idxmax()]"
   ]
  },
  {
   "cell_type": "code",
   "execution_count": 30,
   "metadata": {},
   "outputs": [],
   "source": [
    "#Preparación de los datos para el entrenamiento.\n",
    "#Se procede a separar el data set en dos \n",
    "diamonds_filtered.head()#Dataframe listo.\n",
    "#Exportamos dataframe para ocuparlos luego.\n",
    "diamonds_filtered.to_csv('diamonds_filtered.csv')\n",
    "diamonds_stolen.to_csv('diamonds_stolen_ready.csv')"
   ]
  },
  {
   "cell_type": "code",
   "execution_count": 31,
   "metadata": {},
   "outputs": [],
   "source": [
    "#Seleccion de variable objetivo.\n",
    "targetData = diamonds_filtered['price']\n",
    "targetData.head()\n",
    "trainData = diamonds_filtered[['carat','cut','color','clarity', 'depth','table','volumen']]"
   ]
  },
  {
   "cell_type": "code",
   "execution_count": 32,
   "metadata": {},
   "outputs": [],
   "source": [
    "#Entrenamiento del modelo\n",
    "from sklearn.model_selection import train_test_split\n",
    "#Separamos la base de datos para entrenamiento y prueba.\n",
    "#x_train y y_train contiene el 80% de trainData.\n",
    "#x_test y x_test contiene el 20% de trainData.\n",
    "x_train,x_test,y_train,y_test=train_test_split(trainData,targetData,test_size=0.20,random_state=123)\n",
    "xtrain_rows = len(x_train.index)\n",
    "ytrain_rows = len(y_train.index)\n",
    "xtest_rows = len(x_test.index)\n",
    "ytest_rows = len(y_test.index)"
   ]
  },
  {
   "cell_type": "markdown",
   "metadata": {},
   "source": [
    "## Entrenamieto de modelos\n",
    "SGDRegressor\n",
    "\n",
    "GBRegressor"
   ]
  },
  {
   "cell_type": "code",
   "execution_count": 33,
   "metadata": {},
   "outputs": [
    {
     "data": {
      "text/plain": [
       "Pipeline(memory=None,\n",
       "         steps=[('standardscaler',\n",
       "                 StandardScaler(copy=True, with_mean=True, with_std=True)),\n",
       "                ('sgdregressor',\n",
       "                 SGDRegressor(alpha=0.0001, average=False, early_stopping=False,\n",
       "                              epsilon=0.1, eta0=0.01, fit_intercept=True,\n",
       "                              l1_ratio=0.15, learning_rate='invscaling',\n",
       "                              loss='squared_loss', max_iter=10000,\n",
       "                              n_iter_no_change=5, penalty='l2', power_t=0.25,\n",
       "                              random_state=None, shuffle=True, tol=0.001,\n",
       "                              validation_fraction=0.1, verbose=0,\n",
       "                              warm_start=False))],\n",
       "         verbose=False)"
      ]
     },
     "execution_count": 33,
     "metadata": {},
     "output_type": "execute_result"
    }
   ],
   "source": [
    "#Llamado de paqueterías para el modelo Stochastic Gradient Regressor.\n",
    "from sklearn.linear_model import SGDRegressor\n",
    "from sklearn.pipeline import make_pipeline\n",
    "from sklearn.preprocessing import StandardScaler\n",
    "\n",
    "#Definición del modelo y entrenamiento con los dataframes x_train, y_train, \n",
    "reg = make_pipeline(StandardScaler(),SGDRegressor(max_iter=10000, tol=1e-3))\n",
    "reg.fit(x_train, y_train)"
   ]
  },
  {
   "cell_type": "code",
   "execution_count": 34,
   "metadata": {},
   "outputs": [],
   "source": [
    "#Estimación el modelo con datos conocidos.\n",
    "y_pred_1 = reg.predict(x_test)"
   ]
  },
  {
   "cell_type": "code",
   "execution_count": 35,
   "metadata": {},
   "outputs": [
    {
     "name": "stdout",
     "output_type": "stream",
     "text": [
      "Evaluación del modelo SGDRegressor con datos de prueba, dando luga a R2 =  0.8737843027365817\n"
     ]
    }
   ],
   "source": [
    "#Evaluación del modelo, con la métrica R2 Score, \n",
    "#Rango de valores (-inf,1], con 1 el mejor.\n",
    "r2_1 = reg.score(x_test,y_test)\n",
    "print(\"Evaluación del modelo SGDRegressor con datos de prueba, dando luga a R2 = \",r2_1)"
   ]
  },
  {
   "cell_type": "code",
   "execution_count": 36,
   "metadata": {},
   "outputs": [
    {
     "data": {
      "image/png": "[encoded data removed]",
      "text/plain": [
       "<Figure size 432x288 with 1 Axes>"
      ]
     },
     "metadata": {
      "needs_background": "light"
     },
     "output_type": "display_data"
    }
   ],
   "source": [
    "#Graficamos valores objetivo VS valores estimados.\n",
    "plt.scatter(y_test,y_pred_1,s=1,color='black')\n",
    "plt.xlabel('Precios reales')\n",
    "plt.ylabel('Precios estimados')\n",
    "plt.title(\"Evaluación de SGDRegressor, Resultado 1.1\")\n",
    "plt.show()"
   ]
  },
  {
   "cell_type": "markdown",
   "metadata": {},
   "source": [
    "Como se puede notar en la gráfica anterior, los datos se encuentran dispersos, sin embargo se aproximan a un comportamiento lineal esperado, una curva que se puede ajustar a ello es polinomio de grado 2."
   ]
  },
  {
   "cell_type": "code",
   "execution_count": 37,
   "metadata": {},
   "outputs": [
    {
     "name": "stdout",
     "output_type": "stream",
     "text": [
      "Estimación de los diamantes robados utilizando SGDRegressor:\n",
      "[2795.27216257 5149.50993071 1750.6303882   176.74479894  727.17500816\n",
      " 4309.28083997 1831.40097189 7775.1074252  1840.33294765 -445.73482631]\n"
     ]
    }
   ],
   "source": [
    "#Evaluando con datos reales:\n",
    "#diamonds_stoles <-- Base de datos de los diamantes robados en el banco de Gringotts\n",
    "y_pred_Problem = reg.predict(diamonds_stolen)\n",
    "print(\"Estimación de los diamantes robados utilizando SGDRegressor:\")\n",
    "print(y_pred_Problem)"
   ]
  },
  {
   "cell_type": "code",
   "execution_count": 38,
   "metadata": {},
   "outputs": [
    {
     "data": {
      "image/png": "[encoded data removed]",
      "text/plain": [
       "<Figure size 432x288 with 1 Axes>"
      ]
     },
     "metadata": {
      "needs_background": "light"
     },
     "output_type": "display_data"
    }
   ],
   "source": [
    "#Gráficas entre variables con datos no conocidos.\n",
    "#Estimación del problema.\n",
    "plt.scatter(y_pred_Problem,diamonds_stolen['carat'],s=15,color='black')\n",
    "plt.xlabel('Precios estimados')\n",
    "plt.ylabel('Quilates')\n",
    "plt.title(\"Predicción, Resultado 1.2\")\n",
    "plt.show()"
   ]
  },
  {
   "cell_type": "markdown",
   "metadata": {},
   "source": [
    "La gráfica anterior muestra la relación entre el valor estimado del problema y la variable *carat* (quilate), también se muestra la correlación entre la variable precio y quilate (a mayor precio, más quilates), sin embargo de acuerdo a la métrica de error obtenida que se encuentra debajo del 0.90 y los valores negativos de precios estimados, no da la certeza de ser un modelo completamente funcional."
   ]
  },
  {
   "cell_type": "code",
   "execution_count": 39,
   "metadata": {},
   "outputs": [],
   "source": [
    "#Entrenamiento del modelo con el algoritmo del GBRegressor\n",
    "from sklearn.ensemble import GradientBoostingRegressor"
   ]
  },
  {
   "cell_type": "code",
   "execution_count": 40,
   "metadata": {},
   "outputs": [],
   "source": [
    "#Creación del modelo.\n",
    "reg = GradientBoostingRegressor(random_state=0)"
   ]
  },
  {
   "cell_type": "code",
   "execution_count": 41,
   "metadata": {},
   "outputs": [
    {
     "data": {
      "text/plain": [
       "GradientBoostingRegressor(alpha=0.9, ccp_alpha=0.0, criterion='friedman_mse',\n",
       "                          init=None, learning_rate=0.1, loss='ls', max_depth=3,\n",
       "                          max_features=None, max_leaf_nodes=None,\n",
       "                          min_impurity_decrease=0.0, min_impurity_split=None,\n",
       "                          min_samples_leaf=1, min_samples_split=2,\n",
       "                          min_weight_fraction_leaf=0.0, n_estimators=100,\n",
       "                          n_iter_no_change=None, presort='deprecated',\n",
       "                          random_state=0, subsample=1.0, tol=0.0001,\n",
       "                          validation_fraction=0.1, verbose=0, warm_start=False)"
      ]
     },
     "execution_count": 41,
     "metadata": {},
     "output_type": "execute_result"
    }
   ],
   "source": [
    "#Entrenamiento del modelo.\n",
    "reg.fit(x_train, y_train)"
   ]
  },
  {
   "cell_type": "code",
   "execution_count": 42,
   "metadata": {},
   "outputs": [],
   "source": [
    "#Estimación el modelo con datos conocidos.\n",
    "y_pred_2 = reg.predict(x_test)"
   ]
  },
  {
   "cell_type": "code",
   "execution_count": 43,
   "metadata": {},
   "outputs": [
    {
     "name": "stdout",
     "output_type": "stream",
     "text": [
      "Evaluación del modelo GradientBoostingRegressor con datos de prueba, con métrica R2 =  0.9653115352859628\n"
     ]
    }
   ],
   "source": [
    "r2_2 = reg.score(x_test,y_test)\n",
    "print(\"Evaluación del modelo GradientBoostingRegressor con datos de prueba, con métrica R2 = \",r2_2)"
   ]
  },
  {
   "cell_type": "code",
   "execution_count": 44,
   "metadata": {},
   "outputs": [
    {
     "data": {
      "image/png": "[encoded data removed]",
      "text/plain": [
       "<Figure size 432x288 with 1 Axes>"
      ]
     },
     "metadata": {
      "needs_background": "light"
     },
     "output_type": "display_data"
    }
   ],
   "source": [
    "#Graficamos valores objetivo VS valores estimados.\n",
    "plt.scatter(y_test,y_pred_2,s=1,color='black')\n",
    "plt.xlabel('Precios reales')\n",
    "plt.ylabel('Precios estimados')\n",
    "plt.title(\"Evaluación de GradientBoostingRegressor, Resultado 2.1 \")\n",
    "plt.show()"
   ]
  },
  {
   "cell_type": "markdown",
   "metadata": {},
   "source": [
    "En la gráfica anterior se puede muestra un comportamiento completamente lineal, ya que la curva que mejor se ajusta a la gráfica es una línea recta x=y, por lo tanto la diferencia entre el valor estimado y el real no es significativa."
   ]
  },
  {
   "cell_type": "code",
   "execution_count": 45,
   "metadata": {},
   "outputs": [
    {
     "name": "stdout",
     "output_type": "stream",
     "text": [
      "Estimación de los diamantes robados utilizando Gradient Boosting Regressor:\n",
      "[2433.25977498 3779.39960209 1678.57517197  507.9068686   845.08566782\n",
      " 3245.93600837 2020.23317051 9650.58895784 1149.24967601  670.32575539]\n"
     ]
    }
   ],
   "source": [
    "y_pred_Problem2 = reg.predict(diamonds_stolen)\n",
    "print(\"Estimación de los diamantes robados utilizando Gradient Boosting Regressor:\")\n",
    "print(y_pred_Problem2)"
   ]
  },
  {
   "cell_type": "code",
   "execution_count": 46,
   "metadata": {},
   "outputs": [
    {
     "data": {
      "image/png": "[encoded data removed]",
      "text/plain": [
       "<Figure size 432x288 with 1 Axes>"
      ]
     },
     "metadata": {
      "needs_background": "light"
     },
     "output_type": "display_data"
    }
   ],
   "source": [
    "#Gráficas entre variables con datos no conocidos.\n",
    "#Estimación del problema.\n",
    "plt.scatter(y_pred_Problem2,diamonds_stolen['carat'],s=15,color='black')\n",
    "plt.xlabel('Precios estimados, Resultado 2.2')\n",
    "plt.ylabel('Quilates')\n",
    "plt.title(\"Predicción\")\n",
    "plt.show()"
   ]
  },
  {
   "cell_type": "markdown",
   "metadata": {},
   "source": [
    "El comportamiento de la gráfica anterior se asemeja demasiado a la forma de graficas los precios reales vs los quilates. La métrica de error R2 obtenida es mayor a 0.95 y no se tienen precios no válidos, por lo tanto este resulta ser un modelo completamente funcional."
   ]
  },
  {
   "cell_type": "code",
   "execution_count": null,
   "metadata": {},
   "outputs": [],
   "source": []
  }
 ],
 "metadata": {
  "kernelspec": {
   "display_name": "Python 3",
   "language": "python",
   "name": "python3"
  },
  "language_info": {
   "codemirror_mode": {
    "name": "ipython",
    "version": 3
   },
   "file_extension": ".py",
   "mimetype": "text/x-python",
   "name": "python",
   "nbconvert_exporter": "python",
   "pygments_lexer": "ipython3",
   "version": "3.7.6"
  }
 },
 "nbformat": 4,
 "nbformat_minor": 4
}
