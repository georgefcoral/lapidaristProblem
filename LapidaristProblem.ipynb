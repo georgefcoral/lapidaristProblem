{
 "cells": [
  {
   "cell_type": "markdown",
   "metadata": {},
   "source": [
    "# The lapidarist problem\n",
    "\n",
    "*This problem is for you to:*\n",
    "\n",
    "*Show your abilities in data loading, cleaning and descriptive analysis. Some rows contain errors. Extra points: clean these rows and include them in your analysis.*\n",
    "*Show your modeling abilities. Bonus points for testing your model’s error using a test set.*\n",
    "\n",
    "\n",
    "The limousine comes to a full stop. As the driver gets out to open the door you take a deep breath and get inside. Inside the meeting room you find the Prime Minister, accompanied by a fat, tall man and a short, deform one with long ears and an even longer nose.\n",
    "\n",
    "Prime Minister: “Ah! You’re here! Great! Let me introduce my guests. This is Fidelious, Minister of Magic, and Krenk, the owner of the Gringotts Wizarding Bank.”\n",
    "\n",
    "You: “Uhhh, ma’am, is this a joke?”\n",
    "\n",
    "Fidelious: “Not at all, but don’t worry, don’t sweat the details, tomorrow you won’t remember anything. Security measures, you see.”\n",
    "\n",
    "Krenk: “Let’s move things along. I don’t like to be exposed to Muggles.”\n",
    "\n",
    "You: “What...” The Prime Minister interrupts you.\n",
    "\n",
    "Prime Minister: “Our friends here seem to have run into a bit of an issue, see, some diamonds seem to have been stolen from the bank. Problem is, the only person... goblin, sorry, ...who saw the diamonds prior to the robbery is our distinguished guest, Krenk.”\n",
    "\n",
    "Fidelious: “And while the Ministry completely believes Krenk as to the diamonds’ worth, we need another person to validate his claim. Safety policies, you see.”\n",
    "\n",
    "Prime Minister: “So, since you’re the best data scientist in our country, I thought you could help. Mr. Krenk will provide you with the characteristics of the missing diamonds so you can give us an estimate of how much the stolen diamonds are worth.”\n",
    "\n",
    "You: “But I’m not a lapidarist.”\n",
    "\n",
    "Prime Minister: “Which is why we’re providing you with a huge dataset, containing characteristics and prices for tens of thousands of diamonds. Now, get working.“\n",
    "\n",
    "“Huge? Tens of thousands?“ You think. “And I thought I was the clueless one here.”"
   ]
  },
  {
   "cell_type": "markdown",
   "metadata": {},
   "source": [
    "Entendimiendo del problema:\n",
    "El banco de magos de Gringotts ha sido robado, se llevaron diamantes y la persona quien los vio antes del robo fue el invitado Krenk lo cual es el propietario del banco. Se proporciona información que puede ser de interés, como lo es las caractarísticas miles de diamantes existentes en el banco. \n",
    "La misión otorgada por el primer ministro consta de estimar el valor de los diamantes robados.\n",
    "Datos Existentes: \n",
    "Una base de datos que contiene miles de diamantes con diferentes características.\n",
    "Una tabla de los diamantes que han sido robados.\n",
    "\n",
    "Objetivo principal: \n",
    "    - Estimación del valor de los diamantes robados.\n",
    "\n",
    "Proceso a llevar a cabo:\n",
    "\n",
    "1.- Carga de los datos.\n",
    "\n",
    "    - Se pretende hacer uso de la paquetería Pandas para la manipulación de las bases de datos.\n",
    "2.- Preparación de los datos (limpieza, transformación, etc) .\n",
    "\n",
    "3.- Exploración de los datos.\n",
    "\n",
    "    -A través de la paquetería matplot de pyplot se pretende realizar la visualización de los datos para un mejor análisis.\n",
    "    \n",
    "4.- Ingeniería de los datos.\n",
    "\n",
    "    -Se pretende generar variables a partir de las proporcionadas por la base de datos y seleccionar las más importantes para mejorar el rendimiento del modelo a entrenar.\n",
    "    \n",
    "5.- Construcción del modelo.\n",
    "\n",
    "    -Separación de las bases de datos en un conjunto para entrenamiento (80%) y prueba(20%).\n",
    "    -Entrenamiento del modelo.\n",
    "    -Evaluación del modelo.\n",
    "    \n",
    "6.- Despliegue del modelo.\n",
    "\n",
    "    -Evaluar el modelo con los datos de los diamantes robados.\n",
    "    -Medir rendimiento del modelo.\n",
    "    \n",
    "7.- Presentación de los resultados.\n",
    "\n"
   ]
  },
  {
   "cell_type": "code",
   "execution_count": 2,
   "metadata": {},
   "outputs": [],
   "source": [
    "#Import packages to use\n",
    "import pandas as pd\n",
    "import numpy as np\n",
    "import matplotlib.pyplot as plt"
   ]
  },
  {
   "cell_type": "code",
   "execution_count": 3,
   "metadata": {},
   "outputs": [],
   "source": [
    "#Read datasets\n",
    "dcoords = pd.read_csv(\"dataset/coords_diamonds.csv\")\n",
    "diamonds = pd.read_csv(\"dataset/diamonds.csv\")"
   ]
  },
  {
   "cell_type": "code",
   "execution_count": 5,
   "metadata": {},
   "outputs": [
    {
     "data": {
      "text/html": [
       "<div>\n",
       "<style scoped>\n",
       "    .dataframe tbody tr th:only-of-type {\n",
       "        vertical-align: middle;\n",
       "    }\n",
       "\n",
       "    .dataframe tbody tr th {\n",
       "        vertical-align: top;\n",
       "    }\n",
       "\n",
       "    .dataframe thead th {\n",
       "        text-align: right;\n",
       "    }\n",
       "</style>\n",
       "<table border=\"1\" class=\"dataframe\">\n",
       "  <thead>\n",
       "    <tr style=\"text-align: right;\">\n",
       "      <th></th>\n",
       "      <th>Unnamed: 0</th>\n",
       "      <th>latitude</th>\n",
       "      <th>longitude</th>\n",
       "    </tr>\n",
       "  </thead>\n",
       "  <tbody>\n",
       "    <tr>\n",
       "      <th>0</th>\n",
       "      <td>0</td>\n",
       "      <td>39.8813889</td>\n",
       "      <td>-83.093056</td>\n",
       "    </tr>\n",
       "    <tr>\n",
       "      <th>1</th>\n",
       "      <td>1</td>\n",
       "      <td>33.4150000</td>\n",
       "      <td>-111.548889</td>\n",
       "    </tr>\n",
       "    <tr>\n",
       "      <th>2</th>\n",
       "      <td>2</td>\n",
       "      <td>40.1672222</td>\n",
       "      <td>-105.101389</td>\n",
       "    </tr>\n",
       "    <tr>\n",
       "      <th>3</th>\n",
       "      <td>3</td>\n",
       "      <td>37.3711111</td>\n",
       "      <td>-85.583056</td>\n",
       "    </tr>\n",
       "    <tr>\n",
       "      <th>4</th>\n",
       "      <td>4</td>\n",
       "      <td>48.5394444</td>\n",
       "      <td>-121.745000</td>\n",
       "    </tr>\n",
       "  </tbody>\n",
       "</table>\n",
       "</div>"
      ],
      "text/plain": [
       "   Unnamed: 0    latitude  longitude \n",
       "0           0  39.8813889  -83.093056\n",
       "1           1  33.4150000 -111.548889\n",
       "2           2  40.1672222 -105.101389\n",
       "3           3  37.3711111  -85.583056\n",
       "4           4  48.5394444 -121.745000"
      ]
     },
     "execution_count": 5,
     "metadata": {},
     "output_type": "execute_result"
    }
   ],
   "source": [
    "#Show datasets and its info .\n",
    "dcoords.head()"
   ]
  },
  {
   "cell_type": "code",
   "execution_count": 7,
   "metadata": {},
   "outputs": [
    {
     "data": {
      "text/html": [
       "<div>\n",
       "<style scoped>\n",
       "    .dataframe tbody tr th:only-of-type {\n",
       "        vertical-align: middle;\n",
       "    }\n",
       "\n",
       "    .dataframe tbody tr th {\n",
       "        vertical-align: top;\n",
       "    }\n",
       "\n",
       "    .dataframe thead th {\n",
       "        text-align: right;\n",
       "    }\n",
       "</style>\n",
       "<table border=\"1\" class=\"dataframe\">\n",
       "  <thead>\n",
       "    <tr style=\"text-align: right;\">\n",
       "      <th></th>\n",
       "      <th>Unnamed: 0</th>\n",
       "      <th>carat</th>\n",
       "      <th>cut</th>\n",
       "      <th>color</th>\n",
       "      <th>clarity</th>\n",
       "      <th>depth</th>\n",
       "      <th>table</th>\n",
       "      <th>price</th>\n",
       "      <th>x</th>\n",
       "      <th>y</th>\n",
       "      <th>z</th>\n",
       "    </tr>\n",
       "  </thead>\n",
       "  <tbody>\n",
       "    <tr>\n",
       "      <th>0</th>\n",
       "      <td>0</td>\n",
       "      <td>0.23</td>\n",
       "      <td>Ideal</td>\n",
       "      <td>E</td>\n",
       "      <td>SI2</td>\n",
       "      <td>61.5</td>\n",
       "      <td>55.0</td>\n",
       "      <td>326</td>\n",
       "      <td>3.95</td>\n",
       "      <td>3.98</td>\n",
       "      <td>2.43</td>\n",
       "    </tr>\n",
       "    <tr>\n",
       "      <th>1</th>\n",
       "      <td>1</td>\n",
       "      <td>0.21</td>\n",
       "      <td>Premium</td>\n",
       "      <td>E</td>\n",
       "      <td>SI1</td>\n",
       "      <td>59.8</td>\n",
       "      <td>61.0</td>\n",
       "      <td>326</td>\n",
       "      <td>3.89</td>\n",
       "      <td>3.84</td>\n",
       "      <td>2.31</td>\n",
       "    </tr>\n",
       "    <tr>\n",
       "      <th>2</th>\n",
       "      <td>2</td>\n",
       "      <td>0.23</td>\n",
       "      <td>Good</td>\n",
       "      <td>E</td>\n",
       "      <td>VS1</td>\n",
       "      <td>56.9</td>\n",
       "      <td>65.0</td>\n",
       "      <td>327</td>\n",
       "      <td>4.05</td>\n",
       "      <td>4.07</td>\n",
       "      <td>2.31</td>\n",
       "    </tr>\n",
       "    <tr>\n",
       "      <th>3</th>\n",
       "      <td>3</td>\n",
       "      <td>0.29</td>\n",
       "      <td>Premium</td>\n",
       "      <td>I</td>\n",
       "      <td>VS2</td>\n",
       "      <td>62.4</td>\n",
       "      <td>58.0</td>\n",
       "      <td>334</td>\n",
       "      <td>4.20</td>\n",
       "      <td>4.23</td>\n",
       "      <td>2.63</td>\n",
       "    </tr>\n",
       "    <tr>\n",
       "      <th>4</th>\n",
       "      <td>4</td>\n",
       "      <td>0.31</td>\n",
       "      <td>Good</td>\n",
       "      <td>J</td>\n",
       "      <td>SI2</td>\n",
       "      <td>63.3</td>\n",
       "      <td>58.0</td>\n",
       "      <td>335</td>\n",
       "      <td>4.34</td>\n",
       "      <td>4.35</td>\n",
       "      <td>2.75</td>\n",
       "    </tr>\n",
       "  </tbody>\n",
       "</table>\n",
       "</div>"
      ],
      "text/plain": [
       "   Unnamed: 0  carat      cut color clarity  depth  table  price     x     y  \\\n",
       "0           0   0.23    Ideal     E     SI2   61.5   55.0    326  3.95  3.98   \n",
       "1           1   0.21  Premium     E     SI1   59.8   61.0    326  3.89  3.84   \n",
       "2           2   0.23     Good     E     VS1   56.9   65.0    327  4.05  4.07   \n",
       "3           3   0.29  Premium     I     VS2   62.4   58.0    334  4.20  4.23   \n",
       "4           4   0.31     Good     J     SI2   63.3   58.0    335  4.34  4.35   \n",
       "\n",
       "      z  \n",
       "0  2.43  \n",
       "1  2.31  \n",
       "2  2.31  \n",
       "3  2.63  \n",
       "4  2.75  "
      ]
     },
     "execution_count": 7,
     "metadata": {},
     "output_type": "execute_result"
    }
   ],
   "source": [
    "diamonds.head()"
   ]
  },
  {
   "cell_type": "code",
   "execution_count": 11,
   "metadata": {},
   "outputs": [
    {
     "name": "stdout",
     "output_type": "stream",
     "text": [
      "<class 'pandas.core.frame.DataFrame'>\n",
      "RangeIndex: 53930 entries, 0 to 53929\n",
      "Data columns (total 3 columns):\n",
      " #   Column      Non-Null Count  Dtype  \n",
      "---  ------      --------------  -----  \n",
      " 0   Unnamed: 0  53930 non-null  int64  \n",
      " 1   latitude    53930 non-null  object \n",
      " 2   longitude   53930 non-null  float64\n",
      "dtypes: float64(1), int64(1), object(1)\n",
      "memory usage: 1.2+ MB\n"
     ]
    }
   ],
   "source": [
    "dcoords.info()"
   ]
  },
  {
   "cell_type": "code",
   "execution_count": 10,
   "metadata": {},
   "outputs": [
    {
     "name": "stdout",
     "output_type": "stream",
     "text": [
      "<class 'pandas.core.frame.DataFrame'>\n",
      "RangeIndex: 53930 entries, 0 to 53929\n",
      "Data columns (total 11 columns):\n",
      " #   Column      Non-Null Count  Dtype  \n",
      "---  ------      --------------  -----  \n",
      " 0   Unnamed: 0  53930 non-null  int64  \n",
      " 1   carat       53930 non-null  float64\n",
      " 2   cut         53930 non-null  object \n",
      " 3   color       53930 non-null  object \n",
      " 4   clarity     53930 non-null  object \n",
      " 5   depth       50968 non-null  float64\n",
      " 6   table       53930 non-null  float64\n",
      " 7   price       53930 non-null  int64  \n",
      " 8   x           52840 non-null  float64\n",
      " 9   y           53345 non-null  float64\n",
      " 10  z           53930 non-null  float64\n",
      "dtypes: float64(6), int64(2), object(3)\n",
      "memory usage: 4.5+ MB\n"
     ]
    }
   ],
   "source": [
    "diamonds.info()"
   ]
  },
  {
   "cell_type": "code",
   "execution_count": 12,
   "metadata": {},
   "outputs": [
    {
     "data": {
      "text/plain": [
       "Unnamed: 0       0\n",
       "carat            0\n",
       "cut              0\n",
       "color            0\n",
       "clarity          0\n",
       "depth         2962\n",
       "table            0\n",
       "price            0\n",
       "x             1090\n",
       "y              585\n",
       "z                0\n",
       "dtype: int64"
      ]
     },
     "execution_count": 12,
     "metadata": {},
     "output_type": "execute_result"
    }
   ],
   "source": [
    "#Count null values on diamonds dataset.\n",
    "diamonds.isnull().sum()"
   ]
  },
  {
   "cell_type": "code",
   "execution_count": 13,
   "metadata": {},
   "outputs": [
    {
     "data": {
      "text/plain": [
       "Unnamed: 0    0\n",
       "latitude      0\n",
       "longitude     0\n",
       "dtype: int64"
      ]
     },
     "execution_count": 13,
     "metadata": {},
     "output_type": "execute_result"
    }
   ],
   "source": [
    "#Count null values on diamonds_coords dataset.\n",
    "dcoords.isnull().sum()"
   ]
  },
  {
   "cell_type": "code",
   "execution_count": null,
   "metadata": {},
   "outputs": [],
   "source": [
    "#*Here are the characteristics from Krenk’s diamonds, They will be dataset\n",
    "#for test model deployed.\n"
   ]
  },
  {
   "cell_type": "code",
   "execution_count": null,
   "metadata": {},
   "outputs": [],
   "source": []
  },
  {
   "cell_type": "code",
   "execution_count": null,
   "metadata": {},
   "outputs": [],
   "source": []
  },
  {
   "cell_type": "code",
   "execution_count": null,
   "metadata": {},
   "outputs": [],
   "source": []
  },
  {
   "cell_type": "code",
   "execution_count": null,
   "metadata": {},
   "outputs": [],
   "source": []
  }
 ],
 "metadata": {
  "kernelspec": {
   "display_name": "Python 3",
   "language": "python",
   "name": "python3"
  },
  "language_info": {
   "codemirror_mode": {
    "name": "ipython",
    "version": 3
   },
   "file_extension": ".py",
   "mimetype": "text/x-python",
   "name": "python",
   "nbconvert_exporter": "python",
   "pygments_lexer": "ipython3",
   "version": "3.7.6"
  }
 },
 "nbformat": 4,
 "nbformat_minor": 4
}
